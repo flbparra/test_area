{
 "cells": [
  {
   "cell_type": "code",
   "execution_count": 1,
   "metadata": {},
   "outputs": [
    {
     "name": "stdout",
     "output_type": "stream",
     "text": [
      "Requirement already satisfied: bs4 in /home/parra/miniconda3/envs/df-learn/lib/python3.11/site-packages (0.0.2)\n",
      "Requirement already satisfied: beautifulsoup4 in /home/parra/miniconda3/envs/df-learn/lib/python3.11/site-packages (from bs4) (4.12.3)\n",
      "Requirement already satisfied: soupsieve>1.2 in /home/parra/miniconda3/envs/df-learn/lib/python3.11/site-packages (from beautifulsoup4->bs4) (2.5)\n",
      "Requirement already satisfied: selenium in /home/parra/miniconda3/envs/df-learn/lib/python3.11/site-packages (4.25.0)\n",
      "Requirement already satisfied: urllib3<3,>=1.26 in /home/parra/miniconda3/envs/df-learn/lib/python3.11/site-packages (from urllib3[socks]<3,>=1.26->selenium) (1.26.5)\n",
      "Requirement already satisfied: trio~=0.17 in /home/parra/miniconda3/envs/df-learn/lib/python3.11/site-packages (from selenium) (0.26.2)\n",
      "Requirement already satisfied: trio-websocket~=0.9 in /home/parra/miniconda3/envs/df-learn/lib/python3.11/site-packages (from selenium) (0.11.1)\n",
      "Requirement already satisfied: certifi>=2021.10.8 in /home/parra/miniconda3/envs/df-learn/lib/python3.11/site-packages (from selenium) (2024.7.4)\n",
      "Requirement already satisfied: typing_extensions~=4.9 in /home/parra/miniconda3/envs/df-learn/lib/python3.11/site-packages (from selenium) (4.11.0)\n",
      "Requirement already satisfied: websocket-client~=1.8 in /home/parra/miniconda3/envs/df-learn/lib/python3.11/site-packages (from selenium) (1.8.0)\n",
      "Requirement already satisfied: attrs>=23.2.0 in /home/parra/miniconda3/envs/df-learn/lib/python3.11/site-packages (from trio~=0.17->selenium) (24.2.0)\n",
      "Requirement already satisfied: sortedcontainers in /home/parra/miniconda3/envs/df-learn/lib/python3.11/site-packages (from trio~=0.17->selenium) (2.4.0)\n",
      "Requirement already satisfied: idna in /home/parra/miniconda3/envs/df-learn/lib/python3.11/site-packages (from trio~=0.17->selenium) (3.7)\n",
      "Requirement already satisfied: outcome in /home/parra/miniconda3/envs/df-learn/lib/python3.11/site-packages (from trio~=0.17->selenium) (1.3.0.post0)\n",
      "Requirement already satisfied: sniffio>=1.3.0 in /home/parra/miniconda3/envs/df-learn/lib/python3.11/site-packages (from trio~=0.17->selenium) (1.3.0)\n",
      "Requirement already satisfied: wsproto>=0.14 in /home/parra/miniconda3/envs/df-learn/lib/python3.11/site-packages (from trio-websocket~=0.9->selenium) (1.2.0)\n",
      "Requirement already satisfied: PySocks!=1.5.7,<2.0,>=1.5.6 in /home/parra/miniconda3/envs/df-learn/lib/python3.11/site-packages (from urllib3[socks]<3,>=1.26->selenium) (1.7.1)\n",
      "Requirement already satisfied: h11<1,>=0.9.0 in /home/parra/miniconda3/envs/df-learn/lib/python3.11/site-packages (from wsproto>=0.14->trio-websocket~=0.9->selenium) (0.14.0)\n",
      "Requirement already satisfied: webdriver_manager in /home/parra/miniconda3/envs/df-learn/lib/python3.11/site-packages (4.0.2)\n",
      "Requirement already satisfied: requests in /home/parra/miniconda3/envs/df-learn/lib/python3.11/site-packages (from webdriver_manager) (2.32.3)\n",
      "Requirement already satisfied: python-dotenv in /home/parra/miniconda3/envs/df-learn/lib/python3.11/site-packages (from webdriver_manager) (1.0.1)\n",
      "Requirement already satisfied: packaging in /home/parra/miniconda3/envs/df-learn/lib/python3.11/site-packages (from webdriver_manager) (24.1)\n",
      "Requirement already satisfied: charset-normalizer<4,>=2 in /home/parra/miniconda3/envs/df-learn/lib/python3.11/site-packages (from requests->webdriver_manager) (3.3.2)\n",
      "Requirement already satisfied: idna<4,>=2.5 in /home/parra/miniconda3/envs/df-learn/lib/python3.11/site-packages (from requests->webdriver_manager) (3.7)\n",
      "Requirement already satisfied: urllib3<3,>=1.21.1 in /home/parra/miniconda3/envs/df-learn/lib/python3.11/site-packages (from requests->webdriver_manager) (1.26.5)\n",
      "Requirement already satisfied: certifi>=2017.4.17 in /home/parra/miniconda3/envs/df-learn/lib/python3.11/site-packages (from requests->webdriver_manager) (2024.7.4)\n"
     ]
    }
   ],
   "source": [
    "!pip install bs4\n",
    "!pip install selenium\n",
    "!pip install webdriver_manager"
   ]
  },
  {
   "cell_type": "code",
   "execution_count": 2,
   "metadata": {},
   "outputs": [],
   "source": [
    "from selenium import webdriver\n",
    "from selenium.webdriver.chrome.service import Service\n",
    "from selenium.webdriver.chrome.options import Options\n",
    "from webdriver_manager.chrome import ChromeDriverManager\n",
    "from bs4 import BeautifulSoup as bs"
   ]
  },
  {
   "cell_type": "code",
   "execution_count": 3,
   "metadata": {},
   "outputs": [],
   "source": [
    "\n",
    "\n",
    "# Config chrome com webdriver manager\n",
    "chrome_options = Options()\n",
    "chrome_options.add_argument(\"--headless\")\n",
    "chrome_options.add_argument(\"--no-sandbox\")\n",
    "chrome_options.add_argument(\"--disable-dev-shm-usage\")\n",
    "\n",
    "service = Service(ChromeDriverManager().install())\n",
    "driver = webdriver.Chrome(service=service, options=chrome_options)\n",
    "\n",
    "num_page = 3\n",
    "URL = \"https://www.netimoveis.com/venda/distrito-federal/brasilia?transacao=venda&localizacao=BR-DF-brasilia---&pagina=2\"\n",
    "driver.get(URL)\n",
    "page_source = driver.page_source\n"
   ]
  },
  {
   "cell_type": "code",
   "execution_count": 4,
   "metadata": {},
   "outputs": [
    {
     "name": "stdout",
     "output_type": "stream",
     "text": [
      "\n",
      "      ['{{', 'tipoImovel1', '}}', '{{#ifCond', 'paramTransacao', '\"venda\"}}', 'à', 'venda{{else}}', 'para', 'locação{{/ifCond}}{{#ifCond', 'areaRealPrivativa', '\"0\"}}{{else}},', '{{areaRealPrivativa}}{{metragem}}{{/ifCond}}']\n",
      "      {{ nomeBairro }}{{#if logradouroPublico}}, {{ logradouroPublico}}{{/if}}\n",
      "      ['{{', 'areaRealPrivativa', '}}', '{{', 'metragem', '}}']\n",
      "      ['{{#if', 'quartos}}{{quartos}}{{else}}-{{/if}}', '{{#ifCond', 'quartos', '1}}quarto{{else}}quartos{{/ifCond}}']\n",
      "      ['{{#if', 'banho}}{{banho}}{{else}}-{{/if}}', '{{#ifCond', 'banho', '1}}banheiro{{else}}banheiros{{/ifCond}}']\n",
      "      ['{{#if', 'vagaGaragem}}{{vagaGaragem}}{{else}}-{{/if}}', '{{#ifCond', 'vagaGaragem', '1}}vaga{{else}}vagas{{/ifCond}}']\n",
      "      ['{{#ifCond', 'paramTransacao', '\"venda\"}}{{', 'valorImovelFormat', '}}{{else}}{{', 'valorLocacaoFormat', '}}{{/ifCond}}']\n",
      "      \n"
     ]
    }
   ],
   "source": [
    "from selenium import webdriver\n",
    "from selenium.webdriver.chrome.service import Service\n",
    "from selenium.webdriver.chrome.options import Options\n",
    "from webdriver_manager.chrome import ChromeDriverManager\n",
    "\n",
    "from bs4 import BeautifulSoup as bs\n",
    "\n",
    "\n",
    "# Config chrome com webdriver manager\n",
    "chrome_options = Options()\n",
    "chrome_options.add_argument(\"--headless\")\n",
    "chrome_options.add_argument(\"--no-sandbox\")\n",
    "chrome_options.add_argument(\"--disable-dev-shm-usage\")\n",
    "\n",
    "\n",
    "service = Service(ChromeDriverManager().install())\n",
    "driver = webdriver.Chrome(service=service, options=chrome_options)\n",
    "\n",
    "num_page = 3\n",
    "URL = \"https://www.netimoveis.com/venda/distrito-federal/brasilia?transacao=venda&localizacao=BR-DF-brasilia---&pagina=2\"\n",
    "driver.get(URL)\n",
    "page_source = driver.page_source\n",
    "\n",
    "soup = bs(page_source, 'html.parser')\n",
    "\n",
    "\n",
    "imovel = soup.select_one(\"section.imovel-info\")\n",
    "\n",
    "descricao = imovel.select_one(\"h2\").text.split()\n",
    "address = imovel.select_one(\"div.endereco\").text\n",
    "m2 = imovel.select_one(\"div.caracteristica.area\").text.split()\n",
    "bedroom = imovel.select_one(\"div.caracteristica.quartos\").text.split()\n",
    "vagas_estacionameto = imovel.select_one(\"div.caracteristica.vagas\").text.split()\n",
    "bathroom = imovel.select_one(\"div.caracteristica.banheiros\").text.split()\n",
    "price = imovel.select_one(\"div.valor\").text.split()\n",
    "\n",
    "print(f\"\"\"\n",
    "      {descricao}\n",
    "      {address}\n",
    "      {m2}\n",
    "      {bedroom}\n",
    "      {bathroom}\n",
    "      {vagas_estacionameto}\n",
    "      {price}\n",
    "      \"\"\")\n",
    "driver.quit()\n"
   ]
  }
 ],
 "metadata": {
  "kernelspec": {
   "display_name": "df-learn",
   "language": "python",
   "name": "python3"
  },
  "language_info": {
   "codemirror_mode": {
    "name": "ipython",
    "version": 3
   },
   "file_extension": ".py",
   "mimetype": "text/x-python",
   "name": "python",
   "nbconvert_exporter": "python",
   "pygments_lexer": "ipython3",
   "version": "3.11.5"
  }
 },
 "nbformat": 4,
 "nbformat_minor": 2
}
